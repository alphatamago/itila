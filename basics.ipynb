{
 "cells": [
  {
   "cell_type": "markdown",
   "metadata": {},
   "source": [
    "This is code related to David MacKay's \"Information Theory, Inference, and Learning Algorithms\" book:\n",
    "http://www.inference.org.uk/itila/book.html"
   ]
  },
  {
   "cell_type": "code",
   "execution_count": 3,
   "metadata": {},
   "outputs": [],
   "source": [
    "import math\n",
    "import numpy as np\n",
    "\n",
    "import matplotlib.pyplot as plt\n",
    "%matplotlib inline"
   ]
  },
  {
   "cell_type": "code",
   "execution_count": null,
   "metadata": {},
   "outputs": [],
   "source": [
    "# Lecture 1 https://www.youtube.com/watch?v=BCiZc0n6COY"
   ]
  },
  {
   "cell_type": "code",
   "execution_count": 4,
   "metadata": {},
   "outputs": [],
   "source": [
    "def factorial(n):\n",
    "    assert n >= 0\n",
    "    if n == 0:\n",
    "        return 1\n",
    "    return n * factorial(n-1)\n",
    "\n",
    "# Stirling approximation for factorial:\n",
    "def stirling_factorial_approx(n):\n",
    "    assert n >= 0\n",
    "    return n**n * math.exp(-n) * math.sqrt(2 * math.pi * n)"
   ]
  },
  {
   "cell_type": "code",
   "execution_count": 5,
   "metadata": {},
   "outputs": [
    {
     "data": {
      "text/plain": [
       "(3598695.6187410364, 3628800)"
      ]
     },
     "execution_count": 5,
     "metadata": {},
     "output_type": "execute_result"
    }
   ],
   "source": [
    "stirling_factorial_approx(10), factorial(10)"
   ]
  },
  {
   "cell_type": "code",
   "execution_count": 6,
   "metadata": {},
   "outputs": [],
   "source": [
    "# Calculating empirical mean and variance for the binomial distribution\n",
    "def generate_binomial_sample(N, f):\n",
    "    \"\"\"\n",
    "    n = number of coin tosses\n",
    "    f = probability of heads\n",
    "    \n",
    "    Returns 1 for head, 0 \n",
    "    \"\"\"\n",
    "    samples = np.random.rand(N)\n",
    "    return [int(s< f) for s in samples]"
   ]
  },
  {
   "cell_type": "code",
   "execution_count": 7,
   "metadata": {},
   "outputs": [
    {
     "data": {
      "text/plain": [
       "'\\nFor Binomial distribution in particular: since each of N coin flips is independent of each other, and f is prob heads, then:\\nMEAN[X] = SUM(P(x) * x) = N * (f * 1 + (1-f) * 0) = N * f\\nVAR[X] = MEAN[X^2] - MEAN[X]^2 = N * (f * 1^2 + (1-f) * 0^2) - N * f^2 = N * (f - f^2) = N * f * (1 - f) \\n'"
      ]
     },
     "execution_count": 7,
     "metadata": {},
     "output_type": "execute_result"
    }
   ],
   "source": [
    "\"\"\"\n",
    "By definition:\n",
    "MEAN[X] = SUM(P(x) * x | for all x in X)\n",
    "VAR[X] = MEAN[(X - MEAN(X))^2]\n",
    "\"\"\"\n",
    "\n",
    "\"\"\"\n",
    "Expanding VAR[X]:\n",
    "VAR[X] = MEAN[(X - MEAN(X))^2] \n",
    "       = MEAN[X^2 - 2 * X * MEAN[X] + MEAN[X]^2]\n",
    "       = MEAN[X^2] - MEAN[2 * X * MEAN[X]] + MEAN[MEAN[X]^2]\n",
    "       = MEAN[X^2] - 2 * (MEAN[X]^2) + MEAN[X]^2\n",
    "       = MEAN[X^2] - MEAN[X]^2\n",
    "       \n",
    "since MEAN[MEAN[X]] == MEAN[X]\n",
    "\"\"\"\n",
    "\n",
    "\"\"\"\n",
    "For Binomial distribution in particular: since each of N coin flips is independent of each other, and f is prob heads, then:\n",
    "MEAN[X] = SUM(P(x) * x) = N * (f * 1 + (1-f) * 0) = N * f\n",
    "VAR[X] = MEAN[X^2] - MEAN[X]^2 = N * (f * 1^2 + (1-f) * 0^2) - N * f^2 = N * (f - f^2) = N * f * (1 - f) \n",
    "\"\"\""
   ]
  },
  {
   "cell_type": "code",
   "execution_count": 8,
   "metadata": {},
   "outputs": [
    {
     "name": "stdout",
     "output_type": "stream",
     "text": [
      "empirical mean and variance: 2.009 1.5509190000000002\n",
      "theoretical mean and variance: 2.0 1.6\n"
     ]
    }
   ],
   "source": [
    "# repeat the test many times\n",
    "distribution_for_num_heads = []\n",
    "N = 10\n",
    "f = 0.2\n",
    "for i in range(1000):\n",
    "    sample = generate_binomial_sample(N, f)\n",
    "    distribution_for_num_heads.append(np.sum(sample))\n",
    "print(\"empirical mean and variance:\", np.mean(distribution_for_num_heads), np.var(distribution_for_num_heads))\n",
    "print(\"theoretical mean and variance:\", N*f, N*f*(1-f))"
   ]
  },
  {
   "cell_type": "code",
   "execution_count": 9,
   "metadata": {},
   "outputs": [],
   "source": [
    "# Lecture 1, Q1 https://youtu.be/BCiZc0n6COY?t=12m23s\n",
    "# Binary Symmetric Channel\n",
    "# Given 10K bits, each with individual prob of flipping f = 0.1, independent of each other.\n",
    "# How many bits will be flipped?\n",
    "# Answer should be given in form:\n",
    "#  ... +/- ...\n",
    "\n",
    "# My reasoning: this is same as the binomial distribution problem, with N = 10000 and f = 0.1\n",
    "# Mean = N * f = 1000\n",
    "# Variance = N * f * (1-f)\n",
    "# For giving answer in the required form, we should do: Mean +/ x * Stddev,\n",
    "# where Stddev = sqrt(Variance)\n",
    "# What should x be?\n",
    "N = 10000 \n",
    "f = 0.1\n",
    "mean = N * f\n",
    "stddev = math.sqrt(N * f * (1-f))"
   ]
  },
  {
   "cell_type": "code",
   "execution_count": 10,
   "metadata": {},
   "outputs": [
    {
     "data": {
      "text/plain": [
       "(1000.0, 30.0)"
      ]
     },
     "execution_count": 10,
     "metadata": {},
     "output_type": "execute_result"
    }
   ],
   "source": [
    "mean, stddev"
   ]
  },
  {
   "cell_type": "code",
   "execution_count": 11,
   "metadata": {},
   "outputs": [],
   "source": [
    "distribution_for_num_heads = []\n",
    "# This is SLOW for large sample sizes\n",
    "for i in range(1000):\n",
    "    sample = generate_binomial_sample(N, f)\n",
    "    distribution_for_num_heads.append(np.sum(sample))"
   ]
  },
  {
   "cell_type": "code",
   "execution_count": 12,
   "metadata": {},
   "outputs": [
    {
     "data": {
      "text/plain": [
       "<function matplotlib.pyplot.show>"
      ]
     },
     "execution_count": 12,
     "metadata": {},
     "output_type": "execute_result"
    },
    {
     "data": {
      "image/png": "[encoded data removed]",
      "text/plain": [
       "<matplotlib.figure.Figure at 0x2465cda07f0>"
      ]
     },
     "metadata": {},
     "output_type": "display_data"
    }
   ],
   "source": [
    "plt.hist(distribution_for_num_heads, bins=30)\n",
    "plt.show"
   ]
  },
  {
   "cell_type": "code",
   "execution_count": 14,
   "metadata": {},
   "outputs": [
    {
     "data": {
      "text/plain": [
       "0.0998"
      ]
     },
     "execution_count": 14,
     "metadata": {},
     "output_type": "execute_result"
    }
   ],
   "source": [
    "sample_size = 10000\n",
    "num_stddev = 3\n",
    "len([x for x in distribution_for_num_heads if (x >= (mean - num_stddev * stddev)) and ((x <= mean + num_stddev * stddev))]) * 1.0 / sample_size"
   ]
  },
  {
   "cell_type": "code",
   "execution_count": 15,
   "metadata": {},
   "outputs": [
    {
     "data": {
      "image/png": "[encoded data removed]",
      "text/plain": [
       "<matplotlib.figure.Figure at 0x2465ee17828>"
      ]
     },
     "metadata": {},
     "output_type": "display_data"
    }
   ],
   "source": [
    "distribution_for_num_heads = np.random.binomial(N, f, sample_size)\n",
    "plt.hist(distribution_for_num_heads, bins=30)\n",
    "plt.show()"
   ]
  },
  {
   "cell_type": "code",
   "execution_count": 16,
   "metadata": {},
   "outputs": [
    {
     "data": {
      "text/plain": [
       "0.9973"
      ]
     },
     "execution_count": 16,
     "metadata": {},
     "output_type": "execute_result"
    }
   ],
   "source": [
    "num_stddev = 3\n",
    "len([x for x in distribution_for_num_heads if (x >= (mean - num_stddev * stddev)) and ((x <= mean + num_stddev * stddev))]) * 1.0 / sample_size"
   ]
  },
  {
   "cell_type": "code",
   "execution_count": 17,
   "metadata": {},
   "outputs": [
    {
     "data": {
      "text/plain": [
       "(910.0, 1090.0)"
      ]
     },
     "execution_count": 17,
     "metadata": {},
     "output_type": "execute_result"
    }
   ],
   "source": [
    "mean - num_stddev * stddev, mean + num_stddev * stddev"
   ]
  },
  {
   "cell_type": "code",
   "execution_count": 18,
   "metadata": {},
   "outputs": [],
   "source": [
    "# Course answer was: Mean +/- Stddev, or 1000 +/- 30 in this case"
   ]
  },
  {
   "cell_type": "code",
   "execution_count": 19,
   "metadata": {},
   "outputs": [],
   "source": [
    "# Lecture 1, Q2 https://youtu.be/BCiZc0n6COY\n",
    "# For a saleable 1GB HDD, what should f be?\n",
    "\n",
    "# My reasoning: saleable = prob of one bit flip is \"very low\",\n",
    "# such as \"once in 1000 years low\"\n",
    "\n",
    "N = 10 ** 9 # 1GB\n",
    "num_bits_flipped = 0.00001 # low chance of flipping even one bit\n",
    "# Have to find f"
   ]
  },
  {
   "cell_type": "code",
   "execution_count": 20,
   "metadata": {},
   "outputs": [],
   "source": [
    "# How to determine an acceptable flip rate?\n",
    "# If we consider user writing the whole HDD once a day, choose num_bits_flipped so that it takes a long time until\n",
    "# even one bit is flipped, maybe?\n",
    "# For instance: with daily 1GB bits access, for 1000 years, makes for:\n",
    "# 1000 * 300 * 10^9 = 3^14 ~ 10^15\n",
    "# So it is as if N = 10 ** 15 and num_bits_flipped = 1\n",
    "N = 10 ** 15\n",
    "num_bits_flipped = 1"
   ]
  },
  {
   "cell_type": "code",
   "execution_count": 21,
   "metadata": {},
   "outputs": [],
   "source": [
    "# num_bits_flipped: mean +/- stddev \n",
    "#\n",
    "# num_bits_flipped >= N * f - N * f * (1-f)\n",
    "# num_bits_flipped <= N * f + N * f * (1-f)"
   ]
  },
  {
   "cell_type": "code",
   "execution_count": 22,
   "metadata": {},
   "outputs": [],
   "source": [
    "def try_f(f, N, histogram_sample_size=1000):\n",
    "    mean = N * f\n",
    "    stddev = math.sqrt(N * f * (1-f))\n",
    "    print(\"mean: %s, stddev: %s\" % (mean, stddev))\n",
    "    print(\"interval:\", mean - stddev, mean + stddev)\n",
    "    print(\"does num_bits_flipped belong in interval (left, right):\",\n",
    "          num_bits_flipped >=mean - stddev, num_bits_flipped <= mean + stddev)\n",
    "\n",
    "    sample_size = 1000\n",
    "    distribution_for_num_heads = np.random.binomial(N, f, sample_size)\n",
    "    plt.hist(distribution_for_num_heads, bins=30)\n",
    "    plt.show()"
   ]
  },
  {
   "cell_type": "code",
   "execution_count": 23,
   "metadata": {},
   "outputs": [
    {
     "name": "stdout",
     "output_type": "stream",
     "text": [
      "mean: 0.01, stddev: 0.09999999949999999\n",
      "interval: -0.0899999995 0.10999999949999999\n",
      "does num_bits_flipped belong in interval (left, right): True False\n"
     ]
    },
    {
     "data": {
      "image/png": "[encoded data removed]",
      "text/plain": [
       "<matplotlib.figure.Figure at 0x2465ef9a4a8>"
      ]
     },
     "metadata": {},
     "output_type": "display_data"
    }
   ],
   "source": [
    "try_f(f=0.00000001, N = 10**6)"
   ]
  },
  {
   "cell_type": "code",
   "execution_count": 24,
   "metadata": {},
   "outputs": [],
   "source": [
    "# After trial-and-error, f = 0.0000000001 (10^-10)  seems a good probabily of flip to shoot for"
   ]
  },
  {
   "cell_type": "code",
   "execution_count": 25,
   "metadata": {},
   "outputs": [],
   "source": [
    "# Official solution: let's assume the user is using the HDD daily, and we want to optimize for 5 years of use\n",
    "# (longer than most users keep their PC around for).\n",
    "# N (number of bits written) = 5 years x 1GB\n",
    "# 1GB = 8 * 10^9 bits\n",
    "N = 5 * 365 * 8 * 10**9"
   ]
  },
  {
   "cell_type": "code",
   "execution_count": 26,
   "metadata": {},
   "outputs": [
    {
     "data": {
      "text/plain": [
       "14600000000000"
      ]
     },
     "execution_count": 26,
     "metadata": {},
     "output_type": "execute_result"
    }
   ],
   "source": [
    "N"
   ]
  },
  {
   "cell_type": "code",
   "execution_count": 27,
   "metadata": {},
   "outputs": [
    {
     "name": "stdout",
     "output_type": "stream",
     "text": [
      "mean: 1.46, stddev: 1.2083045973593967\n",
      "interval: 0.2516954026406033 2.6683045973593966\n",
      "does num_bits_flipped belong in interval (left, right): True True\n"
     ]
    },
    {
     "ename": "OverflowError",
     "evalue": "Python int too large to convert to C long",
     "output_type": "error",
     "traceback": [
      "\u001b[1;31m---------------------------------------------------------------------------\u001b[0m",
      "\u001b[1;31mOverflowError\u001b[0m                             Traceback (most recent call last)",
      "\u001b[1;32m<ipython-input-27-031f7d9aca8f>\u001b[0m in \u001b[0;36m<module>\u001b[1;34m()\u001b[0m\n\u001b[1;32m----> 1\u001b[1;33m \u001b[0mtry_f\u001b[0m\u001b[1;33m(\u001b[0m\u001b[0mf\u001b[0m\u001b[1;33m=\u001b[0m\u001b[1;36m10\u001b[0m\u001b[1;33m**\u001b[0m\u001b[1;33m-\u001b[0m\u001b[1;36m13\u001b[0m\u001b[1;33m,\u001b[0m \u001b[0mN\u001b[0m\u001b[1;33m=\u001b[0m\u001b[0mN\u001b[0m\u001b[1;33m)\u001b[0m\u001b[1;33m\u001b[0m\u001b[0m\n\u001b[0m",
      "\u001b[1;32m<ipython-input-22-deca44c4e3d9>\u001b[0m in \u001b[0;36mtry_f\u001b[1;34m(f, N, histogram_sample_size)\u001b[0m\n\u001b[0;32m      8\u001b[0m \u001b[1;33m\u001b[0m\u001b[0m\n\u001b[0;32m      9\u001b[0m     \u001b[0msample_size\u001b[0m \u001b[1;33m=\u001b[0m \u001b[1;36m1000\u001b[0m\u001b[1;33m\u001b[0m\u001b[0m\n\u001b[1;32m---> 10\u001b[1;33m     \u001b[0mdistribution_for_num_heads\u001b[0m \u001b[1;33m=\u001b[0m \u001b[0mnp\u001b[0m\u001b[1;33m.\u001b[0m\u001b[0mrandom\u001b[0m\u001b[1;33m.\u001b[0m\u001b[0mbinomial\u001b[0m\u001b[1;33m(\u001b[0m\u001b[0mN\u001b[0m\u001b[1;33m,\u001b[0m \u001b[0mf\u001b[0m\u001b[1;33m,\u001b[0m \u001b[0msample_size\u001b[0m\u001b[1;33m)\u001b[0m\u001b[1;33m\u001b[0m\u001b[0m\n\u001b[0m\u001b[0;32m     11\u001b[0m     \u001b[0mplt\u001b[0m\u001b[1;33m.\u001b[0m\u001b[0mhist\u001b[0m\u001b[1;33m(\u001b[0m\u001b[0mdistribution_for_num_heads\u001b[0m\u001b[1;33m,\u001b[0m \u001b[0mbins\u001b[0m\u001b[1;33m=\u001b[0m\u001b[1;36m30\u001b[0m\u001b[1;33m)\u001b[0m\u001b[1;33m\u001b[0m\u001b[0m\n\u001b[0;32m     12\u001b[0m     \u001b[0mplt\u001b[0m\u001b[1;33m.\u001b[0m\u001b[0mshow\u001b[0m\u001b[1;33m(\u001b[0m\u001b[1;33m)\u001b[0m\u001b[1;33m\u001b[0m\u001b[0m\n",
      "\u001b[1;32mmtrand.pyx\u001b[0m in \u001b[0;36mmtrand.RandomState.binomial\u001b[1;34m()\u001b[0m\n",
      "\u001b[1;31mOverflowError\u001b[0m: Python int too large to convert to C long"
     ]
    }
   ],
   "source": [
    "try_f(f=10**-13, N=N)"
   ]
  },
  {
   "cell_type": "code",
   "execution_count": 28,
   "metadata": {},
   "outputs": [],
   "source": [
    "# This assumes 1 error in 5 years is enough.\n",
    "# If we want 1% \"chance of disappointment\", f=10^-13 turns into 10^-15\n",
    "# And if we want it even lower, such as first 1000 customers are all happy: 10^-18"
   ]
  },
  {
   "cell_type": "code",
   "execution_count": 29,
   "metadata": {},
   "outputs": [
    {
     "data": {
      "text/plain": [
       "'\\nRules of probability:\\n\\n1. product rule (by the definition of conditional probabilities)\\nP(s, r) = P(s) * P(r|s)\\n\\n2. sum rule (marginal probabilities)\\nP(r) = SUM(P(r, s) | for all s)\\n'"
      ]
     },
     "execution_count": 29,
     "metadata": {},
     "output_type": "execute_result"
    }
   ],
   "source": [
    "\"\"\"\n",
    "Rules of probability:\n",
    "\n",
    "1. product rule (by the definition of conditional probabilities)\n",
    "P(s, r) = P(s) * P(r|s)\n",
    "\n",
    "2. sum rule (marginal probabilities)\n",
    "P(r) = SUM(P(r, s) | for all s)\n",
    "\"\"\""
   ]
  },
  {
   "cell_type": "code",
   "execution_count": 30,
   "metadata": {},
   "outputs": [
    {
     "data": {
      "text/plain": [
       "'\\nInverse probability (can be derived from the rules above):\\n\\nP(s|r) = P(r|s) * P(s) / P(r) = P(r|s) * P(s) / SUM(P(r, s) | for all s)\\n'"
      ]
     },
     "execution_count": 30,
     "metadata": {},
     "output_type": "execute_result"
    }
   ],
   "source": [
    "\"\"\"\n",
    "Inverse probability (can be derived from the rules above):\n",
    "\n",
    "P(s|r) = P(r|s) * P(s) / P(r) = P(r|s) * P(s) / SUM(P(r, s) | for all s)\n",
    "\"\"\""
   ]
  },
  {
   "cell_type": "code",
   "execution_count": 31,
   "metadata": {},
   "outputs": [],
   "source": [
    "# Lecture 1, Q3 https://youtu.be/BCiZc0n6COY\n",
    "# We send a single bit s via a binary symmetric channel, with R3 replication, and using majority vote for decoding.\n",
    "# What is the probability that the receiver gets the flipped bit?\n",
    "# P(s_hat != s) = ?"
   ]
  },
  {
   "cell_type": "code",
   "execution_count": 32,
   "metadata": {},
   "outputs": [],
   "source": [
    "# My reasoning:\n",
    "# for receiver to get the wrong value, >=2 out of 3 must flip.\n",
    "#\n",
    "# Correct decoding <=1 out of 3 flips:\n",
    "# (1-f)^3 + 3 * f * (1-f)^2\n",
    "# >= 2 out of 3 flip is \"one-minus\" the above"
   ]
  },
  {
   "cell_type": "code",
   "execution_count": 33,
   "metadata": {},
   "outputs": [
    {
     "name": "stdout",
     "output_type": "stream",
     "text": [
      "prob of receiving wrong data: 0.352\n"
     ]
    }
   ],
   "source": [
    "f = 0.4\n",
    "print(\"prob of receiving wrong data:\", 1 - ((1-f)**3  + 3 * f * (1-f)**2))"
   ]
  },
  {
   "cell_type": "code",
   "execution_count": 34,
   "metadata": {},
   "outputs": [],
   "source": [
    "# Official solution:\n",
    "# P(s_hat != s) = P(3 flips) + P(2 flips) = f^3 + 3 * f^2 * (1-f)\n",
    "# This is dominated by the 3*f^2 term (since f < 1)"
   ]
  },
  {
   "cell_type": "code",
   "execution_count": 35,
   "metadata": {},
   "outputs": [],
   "source": [
    "# Lecture 1, homework 1 https://youtu.be/BCiZc0n6COY\n",
    "# Assumming we use repetition codes (like we did above with repetition 3, R3): what is the repetition N needed,\n",
    "# in order to deliver Pbit_error = 10^-15 (as in the problem for 1GB HDD with low error rates), for f=0.1?\n",
    "# Hint: answer is about 61"
   ]
  },
  {
   "cell_type": "code",
   "execution_count": 36,
   "metadata": {},
   "outputs": [],
   "source": [
    "# My reasoning: let's assume we send a single bit. With RN repetition, the probabilty of majority bits being flipped is:\n",
    "# SUM(Binomial(r=i, f=10^-15, N) | i in [(N/2) +1 .. N])\n",
    "# Not sure how to calculate the sum...\n",
    "\n",
    "# Official solution: define the \"dominant term\" in the sum, as the one with (N+1)/2 flips, calculate for that one"
   ]
  },
  {
   "cell_type": "code",
   "execution_count": 37,
   "metadata": {},
   "outputs": [
    {
     "data": {
      "text/plain": [
       "67.61363327915772"
      ]
     },
     "execution_count": 37,
     "metadata": {},
     "output_type": "execute_result"
    }
   ],
   "source": [
    "f = 0.1\n",
    "2 * math.log(10 ** -15) / math.log(4 * f * (1-f))"
   ]
  },
  {
   "cell_type": "code",
   "execution_count": null,
   "metadata": {},
   "outputs": [],
   "source": []
  },
  {
   "cell_type": "code",
   "execution_count": 38,
   "metadata": {},
   "outputs": [],
   "source": [
    "# Lecture 1, homework 2 https://youtu.be/BCiZc0n6COY\n",
    "# Given 7,4 Hamming Code, find probability of error\n",
    "# Hint: Pblock_error = 21 * f^2 + ... (using binomial distribution)\n",
    "# Hint: Pbit_error = 9 * f^2 + ..."
   ]
  },
  {
   "cell_type": "code",
   "execution_count": 39,
   "metadata": {},
   "outputs": [],
   "source": [
    "# Lecture 1, puzzle question: given 12 identical looking metal balls, only one of which is heavier or lighter than others.\n",
    "# Given a balance, find the minimum number of weightings in order to find which ball is different, and also find whether it is \n",
    "# heavier or lighter than the others."
   ]
  },
  {
   "cell_type": "code",
   "execution_count": null,
   "metadata": {},
   "outputs": [],
   "source": []
  },
  {
   "cell_type": "code",
   "execution_count": null,
   "metadata": {},
   "outputs": [],
   "source": [
    "# Lecture 2 https://www.youtube.com/watch?v=y5VdtQSqiAI"
   ]
  },
  {
   "cell_type": "code",
   "execution_count": 44,
   "metadata": {},
   "outputs": [],
   "source": [
    "def h(p):\n",
    "    \"\"\"\n",
    "    Shannon's \"information content\" for an event that has probability p\n",
    "    The unit of measure of the returned value is in bits.\n",
    "    \"\"\"\n",
    "    assert (p > 0 and p <= 1)\n",
    "    return math.log(1.0/p, 2)"
   ]
  },
  {
   "cell_type": "code",
   "execution_count": 47,
   "metadata": {},
   "outputs": [
    {
     "name": "stdout",
     "output_type": "stream",
     "text": [
      "p=0.1, h=3.3219280948873626\n",
      "p=0.5, h=1.0\n",
      "p=0.9, h=0.15200309344505006\n",
      "p=1.0, h=0.0\n"
     ]
    }
   ],
   "source": [
    "for p in [0.1, 0.5, 0.9, 1.0]:\n",
    "    print (\"p=%s, h=%s\" % (p, h(p)))"
   ]
  },
  {
   "cell_type": "code",
   "execution_count": 48,
   "metadata": {},
   "outputs": [],
   "source": [
    "# By definition, the Entropy of a distribution X is\n",
    "# the expectation of h(X):\n",
    "# H(X) = E[h(X)]"
   ]
  },
  {
   "cell_type": "code",
   "execution_count": 101,
   "metadata": {},
   "outputs": [],
   "source": [
    "def H(X):\n",
    "    \"\"\"\n",
    "    Information Entropy for a discrete distribution\n",
    "    \"\"\"\n",
    "    assert type(X) == list\n",
    "    assert abs(sum(X) - 1.0) < 0.00001\n",
    "    result = 0\n",
    "    for p in X:\n",
    "        if p > 0:\n",
    "            result += p * h(p)\n",
    "    return result"
   ]
  },
  {
   "cell_type": "code",
   "execution_count": 102,
   "metadata": {},
   "outputs": [
    {
     "data": {
      "text/plain": [
       "1.3567796494470397"
      ]
     },
     "execution_count": 102,
     "metadata": {},
     "output_type": "execute_result"
    }
   ],
   "source": [
    "H([0.1, 0.1, 0.1, 0.7])"
   ]
  },
  {
   "cell_type": "code",
   "execution_count": 103,
   "metadata": {},
   "outputs": [
    {
     "data": {
      "text/plain": [
       "3.3219280948873635"
      ]
     },
     "execution_count": 103,
     "metadata": {},
     "output_type": "execute_result"
    }
   ],
   "source": [
    "H([0.1] * 10)"
   ]
  },
  {
   "cell_type": "code",
   "execution_count": 104,
   "metadata": {},
   "outputs": [
    {
     "data": {
      "text/plain": [
       "2.0"
      ]
     },
     "execution_count": 104,
     "metadata": {},
     "output_type": "execute_result"
    }
   ],
   "source": [
    "H([0.25] * 4)"
   ]
  },
  {
   "cell_type": "code",
   "execution_count": 105,
   "metadata": {},
   "outputs": [
    {
     "data": {
      "text/plain": [
       "2.321928094887362"
      ]
     },
     "execution_count": 105,
     "metadata": {},
     "output_type": "execute_result"
    }
   ],
   "source": [
    "H([0.2] * 5)"
   ]
  },
  {
   "cell_type": "code",
   "execution_count": 106,
   "metadata": {},
   "outputs": [
    {
     "data": {
      "text/plain": [
       "1.0"
      ]
     },
     "execution_count": 106,
     "metadata": {},
     "output_type": "execute_result"
    }
   ],
   "source": [
    "H([0.5, 0.5])"
   ]
  },
  {
   "cell_type": "code",
   "execution_count": 107,
   "metadata": {},
   "outputs": [
    {
     "data": {
      "text/plain": [
       "0.0"
      ]
     },
     "execution_count": 107,
     "metadata": {},
     "output_type": "execute_result"
    }
   ],
   "source": [
    "H([1.0])"
   ]
  },
  {
   "cell_type": "code",
   "execution_count": 108,
   "metadata": {},
   "outputs": [],
   "source": [
    "# Discussion of the puzzle question from Lecture 1: given 12 identical looking metal balls, only one of which is heavier or lighter than others.\n",
    "# Given a balance, find the minimum number of weightings in order to find which ball is different, and also find whether it is \n",
    "# heavier or lighter than the others."
   ]
  },
  {
   "cell_type": "markdown",
   "metadata": {},
   "source": [
    "My reasoning: if we only have 2 balls, we cannot know which ball is wrong: lighter or heavier one.\n",
    "With 3 balls, we need two measurements\n",
    "With 9 balls, we split in 3 groups of 3; we need 2 measurments to find the group of 3 containing the odd ball; then 2 more (like above) to find the odd ball (and which way it is odd: heavier or lighter).\n",
    "\n",
    "For 12 balls:\n",
    "- if we start with 4 groups of 3: we need 3 measurements to identify the group of 3 with odd ball; then 2 more, total 5\n",
    "- if we start with 3 groups of 4: we need 2 measurements to identify the group of 4 with odd ball; 2 more to find the odd ball, total 4.\n",
    "\n",
    "Just realized that given 4 balls, with 2 measurements we can identify the odd one! Better than above, where I started with group of 3.\n"
   ]
  },
  {
   "cell_type": "code",
   "execution_count": 109,
   "metadata": {},
   "outputs": [
    {
     "data": {
      "text/plain": [
       "0.0"
      ]
     },
     "execution_count": 109,
     "metadata": {},
     "output_type": "execute_result"
    }
   ],
   "source": [
    "\"\"\"\n",
    "Hint: use Shannon's information gain; maximize the entropy of the first weighing!\n",
    "\"\"\"\n",
    "# 6 vs 6 balls\n",
    "# There is only one event possible, with prob 1: since the odd ball is on the balance (we just don't know on which arm),\n",
    "# the fact that the balance will show different weights.\n",
    "H([12/12])"
   ]
  },
  {
   "cell_type": "code",
   "execution_count": 110,
   "metadata": {},
   "outputs": [
    {
     "data": {
      "text/plain": [
       "1.0"
      ]
     },
     "execution_count": 110,
     "metadata": {},
     "output_type": "execute_result"
    }
   ],
   "source": [
    "# 3 vs 3 balls (6 on the side)\n",
    "# There are two possible events, with probability 1/2 each: either the odd ball is within the 6 balls in the balance,\n",
    "# in which case the balance will show different weights, or the odd ball is in the 6 balls on the side, in which case\n",
    "# the balance will show equal weights.\n",
    "H([6/12, 6/12])"
   ]
  },
  {
   "cell_type": "code",
   "execution_count": 111,
   "metadata": {},
   "outputs": [
    {
     "data": {
      "text/plain": [
       "0.6500224216483541"
      ]
     },
     "execution_count": 111,
     "metadata": {},
     "output_type": "execute_result"
    }
   ],
   "source": [
    "# 1 vs 1 ball (10 on the side)\n",
    "H([2/12, 10/12])"
   ]
  },
  {
   "cell_type": "code",
   "execution_count": 112,
   "metadata": {},
   "outputs": [
    {
     "data": {
      "text/plain": [
       "0.9182958340544896"
      ]
     },
     "execution_count": 112,
     "metadata": {},
     "output_type": "execute_result"
    }
   ],
   "source": [
    "# 4 vs 4 balls (4 on the side)\n",
    "H([8/12, 4/12])"
   ]
  },
  {
   "cell_type": "code",
   "execution_count": 113,
   "metadata": {},
   "outputs": [
    {
     "data": {
      "text/plain": [
       "0.9182958340544896"
      ]
     },
     "execution_count": 113,
     "metadata": {},
     "output_type": "execute_result"
    }
   ],
   "source": [
    "# 2 vs 2 balls (8 on the side)\n",
    "H([4/12, 8/12])"
   ]
  },
  {
   "cell_type": "code",
   "execution_count": 120,
   "metadata": {},
   "outputs": [
    {
     "data": {
      "text/plain": [
       "1.0"
      ]
     },
     "execution_count": 120,
     "metadata": {},
     "output_type": "execute_result"
    }
   ],
   "source": [
    "# Turns out that Prof's way to measure is different: https://youtu.be/y5VdtQSqiAI?t=24m19s\n",
    "# States of the balance (our \"alphabet\"): \n",
    "# 1 L < R\n",
    "# 2 L = R\n",
    "# 3 L > R\n",
    "\n",
    "# For 6 vs 6, the probabilities of the 3 states are:\n",
    "# 1/2, 0, 1/2\n",
    "H([1/2, 0, 1/2])"
   ]
  },
  {
   "cell_type": "code",
   "execution_count": 121,
   "metadata": {},
   "outputs": [
    {
     "data": {
      "text/plain": [
       "1.5"
      ]
     },
     "execution_count": 121,
     "metadata": {},
     "output_type": "execute_result"
    }
   ],
   "source": [
    "# 3 vs 3\n",
    "H([1/4, 1/2, 1/4])"
   ]
  },
  {
   "cell_type": "code",
   "execution_count": 122,
   "metadata": {},
   "outputs": [
    {
     "data": {
      "text/plain": [
       "0.8166890883150209"
      ]
     },
     "execution_count": 122,
     "metadata": {},
     "output_type": "execute_result"
    }
   ],
   "source": [
    "# 1 vs 1\n",
    "# Q: HOW can this be worse than 6-vs-6 which gives us no useful info at all??\n",
    "H([1/12, 10/12, 1/12])"
   ]
  },
  {
   "cell_type": "code",
   "execution_count": 123,
   "metadata": {},
   "outputs": [
    {
     "data": {
      "text/plain": [
       "1.584962500721156"
      ]
     },
     "execution_count": 123,
     "metadata": {},
     "output_type": "execute_result"
    }
   ],
   "source": [
    "# 4 vs 4\n",
    "H([4/12, 4/12, 4/12])"
   ]
  },
  {
   "cell_type": "code",
   "execution_count": 124,
   "metadata": {},
   "outputs": [
    {
     "data": {
      "text/plain": [
       "1.4833557549816874"
      ]
     },
     "execution_count": 124,
     "metadata": {},
     "output_type": "execute_result"
    }
   ],
   "source": [
    "# 5 vs 5\n",
    "H([5/12, 2/12, 5/12])"
   ]
  },
  {
   "cell_type": "code",
   "execution_count": 125,
   "metadata": {},
   "outputs": [
    {
     "data": {
      "text/plain": [
       "1.584962500721156"
      ]
     },
     "execution_count": 125,
     "metadata": {},
     "output_type": "execute_result"
    }
   ],
   "source": [
    "# Lecture question: what probability distrubutions maximize entropy?\n",
    "\n",
    "# I think: the more uniform, the higher the entropy\n",
    "H([1/3, 1/3, 1/3])"
   ]
  },
  {
   "cell_type": "code",
   "execution_count": 126,
   "metadata": {},
   "outputs": [
    {
     "data": {
      "text/plain": [
       "0.9219280948873625"
      ]
     },
     "execution_count": 126,
     "metadata": {},
     "output_type": "execute_result"
    }
   ],
   "source": [
    "H([1/10, 1/10, 8/10])"
   ]
  },
  {
   "cell_type": "code",
   "execution_count": null,
   "metadata": {},
   "outputs": [],
   "source": [
    "# Source coding theorem: given N outcomes from a source X, they can be compressed in roughly N * H(X) bits\n",
    "# (where H(X) is the entropy of X)"
   ]
  },
  {
   "cell_type": "code",
   "execution_count": 127,
   "metadata": {},
   "outputs": [
    {
     "data": {
      "text/plain": [
       "0.11611507530476964"
      ]
     },
     "execution_count": 127,
     "metadata": {},
     "output_type": "execute_result"
    }
   ],
   "source": [
    "# Game 63: minimize the number of yes/no questions asked to guess an integer number between 0 and 63\n",
    "\n",
    "# if we ask \"is it x\" kind of question, the entropy is 0.116:\n",
    "H([1/64, 63/64])"
   ]
  },
  {
   "cell_type": "code",
   "execution_count": 128,
   "metadata": {},
   "outputs": [
    {
     "data": {
      "text/plain": [
       "1.0"
      ]
     },
     "execution_count": 128,
     "metadata": {},
     "output_type": "execute_result"
    }
   ],
   "source": [
    "# if we ask \"is it >= 31?\", the entropy is better, 1.0, so we gain more information on the average:\n",
    "H([1/2, 1/2])"
   ]
  },
  {
   "cell_type": "code",
   "execution_count": null,
   "metadata": {},
   "outputs": [],
   "source": [
    "# Lecture question https://youtu.be/0SxJl5G2bp0?t=11m3s\n",
    "# If we have S items, and want to give each a unique binary name, how many bits long are the names?\n",
    "\n",
    "# My answer: log_2(S)"
   ]
  },
  {
   "cell_type": "code",
   "execution_count": null,
   "metadata": {},
   "outputs": [],
   "source": [
    "# Prof answer: ceil(log_2(S)) (rounding up a bit in case S is not a power of 2)"
   ]
  },
  {
   "cell_type": "code",
   "execution_count": null,
   "metadata": {},
   "outputs": [],
   "source": [
    "# Lottery Ticket (Mafia Boss) problem"
   ]
  },
  {
   "cell_type": "markdown",
   "metadata": {},
   "source": [
    "![title](img/lottery_ticket_mafia_boss_problem.png)"
   ]
  },
  {
   "cell_type": "code",
   "execution_count": 133,
   "metadata": {},
   "outputs": [
    {
     "data": {
      "text/plain": [
       "468.9955935892813"
      ]
     },
     "execution_count": 133,
     "metadata": {},
     "output_type": "execute_result"
    }
   ],
   "source": [
    "# If we only buy one tickat: all zeros is the one most probable\n",
    "\n",
    "# What tickets do we need to buy, to have 99% chance (at minimum # tickets)?\n",
    "# We want to buy the all-zeros ticket, the 1000 only-one tickets, etc... (up to only-X-ones tickets); what is the value of X?\n",
    "# Distribution of 1s in the ticket digits is Binomial(N=1000, f=0.1)\n",
    "# mean = Nf = 1000 * 0.1 = 100\n",
    "# variance = N * f * (1-f) = 90 ~ 100\n",
    "# stddev = sqrt(variance) ~ 10\n",
    "# If we buy tickets with up to 100 1s, we have about 50% chance; maybe we go 2 std-deviations up from the mean:\n",
    "# mean + 2 * stddev = 120\n",
    "#\n",
    "# For a Normal distribution: 2 stddevs give us ~ 95% probability mass\n",
    "# We already have the left tail (from buying all 0-1s, 1-1, 2-1s, .., etc) - that is 5%/2 = 2.5%, for a total of 97.5%\n",
    "# we need to go a little up from 2 stddevs, but we'are in the right ballpark. Correct value of X: 123 (since for 99% we need 2.3 * stddev)\n",
    "#\n",
    "# How to find K, so that 2^K is the number of tickets?\n",
    "# We buy 1 + 1000 + 1000-choose-2 + ... + 1000-choose-123\n",
    "# Hard to calculate, but we can approximate, based on the dominant term\n",
    "\n",
    "# Eaiser: what is 1000-choose-100?\n",
    "# My idea: 1000! / (100! * 900!) ~ 1000^100 ~ (2^10)^100... nah....\n",
    "# Try Stirling:\n",
    "# N-choose-r ~ 2^(N * H2(r/N), where\n",
    "# H2(x) is binary entropy function = x * log(1/x) + (1-x) * log(1/(1-x))\n",
    "# 1000-choose-100 ~ 2^469, because:\n",
    "# H2(0.1) = 0.4689\n",
    "1000 * H([0.1, 0.9])"
   ]
  },
  {
   "cell_type": "code",
   "execution_count": 134,
   "metadata": {},
   "outputs": [
    {
     "data": {
      "text/plain": [
       "537.9232310513298"
      ]
     },
     "execution_count": 134,
     "metadata": {},
     "output_type": "execute_result"
    }
   ],
   "source": [
    "# Stirling approximation for 1000-choose-123: 2^538\n",
    "1000 * H([123/1000, (1000-123)/1000])"
   ]
  },
  {
   "cell_type": "code",
   "execution_count": null,
   "metadata": {},
   "outputs": [],
   "source": [
    "# In general, lottery with N num bits and prob 1s f, for 99% chance of winning:\n",
    "1 + N + ... + N-choose-(N*f + 2.3 * sqrt(N * f * (1-f))) ~ 2 ^ N * H2(f)"
   ]
  },
  {
   "cell_type": "code",
   "execution_count": null,
   "metadata": {},
   "outputs": [],
   "source": [
    "# Basically, we showed we can compresss data, with high-probability (99% in this case; we could make that 99.9% or higher,\n",
    "# by choosing a larger number of \"tickets\", say from ~ 2^530 to \"little more\", increasing by sqrt(N))\n",
    "# Compression rate: from N down to N * H2(f) bits"
   ]
  },
  {
   "cell_type": "code",
   "execution_count": null,
   "metadata": {},
   "outputs": [],
   "source": []
  },
  {
   "cell_type": "code",
   "execution_count": 135,
   "metadata": {},
   "outputs": [],
   "source": [
    "# Source Coding Theorem: N outcomes from a source X can be compressed into roughly N*H(X) bits\n",
    "\n",
    "# Full proof in the book, based on \"typical set\" (defined as mean +/- a few standard deviations)"
   ]
  },
  {
   "cell_type": "code",
   "execution_count": null,
   "metadata": {},
   "outputs": [],
   "source": [
    "# ???\n",
    "# My Q: does it mean that N*H(X) is always compressing the input (reducing in size)?\n",
    "# N distinct outcomes can be coded in 2^log(N) bits.. how does it related to N*H(X) bits?\n",
    "# ???"
   ]
  },
  {
   "cell_type": "code",
   "execution_count": null,
   "metadata": {},
   "outputs": [],
   "source": [
    "# Lecture 3 HW: given a source file with 10^4 bits, each with probabilty 0.01 of being set, design & implement\n",
    "# a compressor and decompressor, measure how well they work."
   ]
  },
  {
   "cell_type": "markdown",
   "metadata": {},
   "source": [
    "![title](img/after_lecture_4.png)"
   ]
  },
  {
   "cell_type": "markdown",
   "metadata": {},
   "source": [
    "![title](img/hw_lectue_5.png)"
   ]
  },
  {
   "cell_type": "markdown",
   "metadata": {},
   "source": [
    "![title](img/reminder_exercises_after_lectue_5.png)"
   ]
  },
  {
   "cell_type": "code",
   "execution_count": null,
   "metadata": {},
   "outputs": [],
   "source": [
    "\"\"\"\n",
    "Ax = {a, b, c, d}\n",
    "Px = {1/2, 1/4, 1/8, 1/8}\n",
    "C = {0, 10, 110, 111}\n",
    "\n",
    "What is p1 (prob of a random bit from a stream from Ax, encoded with C, to be 1):\n",
    "a) < 1/2\n",
    "b) 1/2\n",
    "c) > 1/2\n",
    "\"\"\""
   ]
  },
  {
   "cell_type": "code",
   "execution_count": null,
   "metadata": {},
   "outputs": [],
   "source": [
    "\"\"\"\n",
    "Let's try first to calculate empirically\n",
    "a ~ 0  1/2 chance: no 1 at all: 0 chance of a 1\n",
    "b ~ 10 1/4 chance; 1 is 1/2 of 1/4, or 1/8 chance of a 1 (from b)\n",
    "c ~ 110 1/8 chance; 2/3 of 110 are 1s, so 1/8 * 2/3 = 1/12 chance of a 1 (from c) - maybe 2/12 == 1/6?\n",
    "d ~ 111 1/8 chance, all 3 ones: 1/8 chance of a 1 (but 3 such chances...) - maybe 3/8?\n",
    "\n",
    "Now, we need to take into account the number of 0s and 1s in an encoded stream too.\n",
    "Example stream:\n",
    "aaaabbcd\n",
    "Encoded:\n",
    "00001010110111\n",
    "Number of 0s: 7\n",
    "Number of 1s: 7\n",
    "\"\"\""
   ]
  },
  {
   "cell_type": "markdown",
   "metadata": {},
   "source": [
    "![title](img/joint_entropy.png)"
   ]
  },
  {
   "cell_type": "code",
   "execution_count": null,
   "metadata": {},
   "outputs": [],
   "source": []
  }
 ],
 "metadata": {
  "kernelspec": {
   "display_name": "Python 3",
   "language": "python",
   "name": "python3"
  },
  "language_info": {
   "codemirror_mode": {
    "name": "ipython",
    "version": 3
   },
   "file_extension": ".py",
   "mimetype": "text/x-python",
   "name": "python",
   "nbconvert_exporter": "python",
   "pygments_lexer": "ipython3",
   "version": "3.6.2"
  }
 },
 "nbformat": 4,
 "nbformat_minor": 2
}
