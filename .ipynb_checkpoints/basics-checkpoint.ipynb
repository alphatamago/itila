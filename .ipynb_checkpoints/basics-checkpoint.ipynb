{
 "cells": [
  {
   "cell_type": "markdown",
   "metadata": {},
   "source": [
    "This is code related to David MacKay's \"Information Theory, Inference, and Learning Algorithms\" book:\n",
    "http://www.inference.org.uk/itila/book.html"
   ]
  },
  {
   "cell_type": "code",
   "execution_count": 3,
   "metadata": {},
   "outputs": [],
   "source": [
    "import math\n",
    "import numpy as np\n",
    "\n",
    "import matplotlib.pyplot as plt\n",
    "%matplotlib inline"
   ]
  },
  {
   "cell_type": "code",
   "execution_count": null,
   "metadata": {},
   "outputs": [],
   "source": [
    "# Lecture 1 https://www.youtube.com/watch?v=BCiZc0n6COY"
   ]
  },
  {
   "cell_type": "code",
   "execution_count": 4,
   "metadata": {},
   "outputs": [],
   "source": [
    "def factorial(n):\n",
    "    assert n >= 0\n",
    "    if n == 0:\n",
    "        return 1\n",
    "    return n * factorial(n-1)\n",
    "\n",
    "# Stirling approximation for factorial:\n",
    "def stirling_factorial_approx(n):\n",
    "    assert n >= 0\n",
    "    return n**n * math.exp(-n) * math.sqrt(2 * math.pi * n)"
   ]
  },
  {
   "cell_type": "code",
   "execution_count": 5,
   "metadata": {},
   "outputs": [
    {
     "data": {
      "text/plain": [
       "(3598695.6187410364, 3628800)"
      ]
     },
     "execution_count": 5,
     "metadata": {},
     "output_type": "execute_result"
    }
   ],
   "source": [
    "stirling_factorial_approx(10), factorial(10)"
   ]
  },
  {
   "cell_type": "code",
   "execution_count": 6,
   "metadata": {},
   "outputs": [],
   "source": [
    "# Calculating empirical mean and variance for the binomial distribution\n",
    "def generate_binomial_sample(N, f):\n",
    "    \"\"\"\n",
    "    n = number of coin tosses\n",
    "    f = probability of heads\n",
    "    \n",
    "    Returns 1 for head, 0 \n",
    "    \"\"\"\n",
    "    samples = np.random.rand(N)\n",
    "    return [int(s< f) for s in samples]"
   ]
  },
  {
   "cell_type": "code",
   "execution_count": 7,
   "metadata": {},
   "outputs": [
    {
     "data": {
      "text/plain": [
       "'\\nFor Binomial distribution in particular: since each of N coin flips is independent of each other, and f is prob heads, then:\\nMEAN[X] = SUM(P(x) * x) = N * (f * 1 + (1-f) * 0) = N * f\\nVAR[X] = MEAN[X^2] - MEAN[X]^2 = N * (f * 1^2 + (1-f) * 0^2) - N * f^2 = N * (f - f^2) = N * f * (1 - f) \\n'"
      ]
     },
     "execution_count": 7,
     "metadata": {},
     "output_type": "execute_result"
    }
   ],
   "source": [
    "\"\"\"\n",
    "By definition:\n",
    "MEAN[X] = SUM(P(x) * x | for all x in X)\n",
    "VAR[X] = MEAN[(X - MEAN(X))^2]\n",
    "\"\"\"\n",
    "\n",
    "\"\"\"\n",
    "Expanding VAR[X]:\n",
    "VAR[X] = MEAN[(X - MEAN(X))^2] \n",
    "       = MEAN[X^2 - 2 * X * MEAN[X] + MEAN[X]^2]\n",
    "       = MEAN[X^2] - MEAN[2 * X * MEAN[X]] + MEAN[MEAN[X]^2]\n",
    "       = MEAN[X^2] - 2 * (MEAN[X]^2) + MEAN[X]^2\n",
    "       = MEAN[X^2] - MEAN[X]^2\n",
    "       \n",
    "since MEAN[MEAN[X]] == MEAN[X]\n",
    "\"\"\"\n",
    "\n",
    "\"\"\"\n",
    "For Binomial distribution in particular: since each of N coin flips is independent of each other, and f is prob heads, then:\n",
    "MEAN[X] = SUM(P(x) * x) = N * (f * 1 + (1-f) * 0) = N * f\n",
    "VAR[X] = MEAN[X^2] - MEAN[X]^2 = N * (f * 1^2 + (1-f) * 0^2) - N * f^2 = N * (f - f^2) = N * f * (1 - f) \n",
    "\"\"\""
   ]
  },
  {
   "cell_type": "code",
   "execution_count": 8,
   "metadata": {},
   "outputs": [
    {
     "name": "stdout",
     "output_type": "stream",
     "text": [
      "empirical mean and variance: 2.009 1.5509190000000002\n",
      "theoretical mean and variance: 2.0 1.6\n"
     ]
    }
   ],
   "source": [
    "# repeat the test many times\n",
    "distribution_for_num_heads = []\n",
    "N = 10\n",
    "f = 0.2\n",
    "for i in range(1000):\n",
    "    sample = generate_binomial_sample(N, f)\n",
    "    distribution_for_num_heads.append(np.sum(sample))\n",
    "print(\"empirical mean and variance:\", np.mean(distribution_for_num_heads), np.var(distribution_for_num_heads))\n",
    "print(\"theoretical mean and variance:\", N*f, N*f*(1-f))"
   ]
  },
  {
   "cell_type": "code",
   "execution_count": 9,
   "metadata": {},
   "outputs": [],
   "source": [
    "# Lecture 1, Q1 https://youtu.be/BCiZc0n6COY?t=12m23s\n",
    "# Binary Symmetric Channel\n",
    "# Given 10K bits, each with individual prob of flipping f = 0.1, independent of each other.\n",
    "# How many bits will be flipped?\n",
    "# Answer should be given in form:\n",
    "#  ... +/- ...\n",
    "\n",
    "# My reasoning: this is same as the binomial distribution problem, with N = 10000 and f = 0.1\n",
    "# Mean = N * f = 1000\n",
    "# Variance = N * f * (1-f)\n",
    "# For giving answer in the required form, we should do: Mean +/ x * Stddev,\n",
    "# where Stddev = sqrt(Variance)\n",
    "# What should x be?\n",
    "N = 10000 \n",
    "f = 0.1\n",
    "mean = N * f\n",
    "stddev = math.sqrt(N * f * (1-f))"
   ]
  },
  {
   "cell_type": "code",
   "execution_count": 10,
   "metadata": {},
   "outputs": [
    {
     "data": {
      "text/plain": [
       "(1000.0, 30.0)"
      ]
     },
     "execution_count": 10,
     "metadata": {},
     "output_type": "execute_result"
    }
   ],
   "source": [
    "mean, stddev"
   ]
  },
  {
   "cell_type": "code",
   "execution_count": 11,
   "metadata": {},
   "outputs": [],
   "source": [
    "distribution_for_num_heads = []\n",
    "# This is SLOW for large sample sizes\n",
    "for i in range(1000):\n",
    "    sample = generate_binomial_sample(N, f)\n",
    "    distribution_for_num_heads.append(np.sum(sample))"
   ]
  },
  {
   "cell_type": "code",
   "execution_count": 12,
   "metadata": {},
   "outputs": [
    {
     "data": {
      "text/plain": [
       "<function matplotlib.pyplot.show>"
      ]
     },
     "execution_count": 12,
     "metadata": {},
     "output_type": "execute_result"
    },
    {
     "data": {
      "image/png": "[encoded data removed]",
      "text/plain": [
       "<matplotlib.figure.Figure at 0x2465cda07f0>"
      ]
     },
     "metadata": {},
     "output_type": "display_data"
    }
   ],
   "source": [
    "plt.hist(distribution_for_num_heads, bins=30)\n",
    "plt.show"
   ]
  },
  {
   "cell_type": "code",
   "execution_count": 14,
   "metadata": {},
   "outputs": [
    {
     "data": {
      "text/plain": [
       "0.0998"
      ]
     },
     "execution_count": 14,
     "metadata": {},
     "output_type": "execute_result"
    }
   ],
   "source": [
    "sample_size = 10000\n",
    "num_stddev = 3\n",
    "len([x for x in distribution_for_num_heads if (x >= (mean - num_stddev * stddev)) and ((x <= mean + num_stddev * stddev))]) * 1.0 / sample_size"
   ]
  },
  {
   "cell_type": "code",
   "execution_count": 15,
   "metadata": {},
   "outputs": [
    {
     "data": {
      "image/png": "[encoded data removed]",
      "text/plain": [
       "<matplotlib.figure.Figure at 0x2465ee17828>"
      ]
     },
     "metadata": {},
     "output_type": "display_data"
    }
   ],
   "source": [
    "distribution_for_num_heads = np.random.binomial(N, f, sample_size)\n",
    "plt.hist(distribution_for_num_heads, bins=30)\n",
    "plt.show()"
   ]
  },
  {
   "cell_type": "code",
   "execution_count": 16,
   "metadata": {},
   "outputs": [
    {
     "data": {
      "text/plain": [
       "0.9973"
      ]
     },
     "execution_count": 16,
     "metadata": {},
     "output_type": "execute_result"
    }
   ],
   "source": [
    "num_stddev = 3\n",
    "len([x for x in distribution_for_num_heads if (x >= (mean - num_stddev * stddev)) and ((x <= mean + num_stddev * stddev))]) * 1.0 / sample_size"
   ]
  },
  {
   "cell_type": "code",
   "execution_count": 17,
   "metadata": {},
   "outputs": [
    {
     "data": {
      "text/plain": [
       "(910.0, 1090.0)"
      ]
     },
     "execution_count": 17,
     "metadata": {},
     "output_type": "execute_result"
    }
   ],
   "source": [
    "mean - num_stddev * stddev, mean + num_stddev * stddev"
   ]
  },
  {
   "cell_type": "code",
   "execution_count": 18,
   "metadata": {},
   "outputs": [],
   "source": [
    "# Course answer was: Mean +/- Stddev, or 1000 +/- 30 in this case"
   ]
  },
  {
   "cell_type": "code",
   "execution_count": 19,
   "metadata": {},
   "outputs": [],
   "source": [
    "# Lecture 1, Q2 https://youtu.be/BCiZc0n6COY\n",
    "# For a saleable 1GB HDD, what should f be?\n",
    "\n",
    "# My reasoning: saleable = prob of one bit flip is \"very low\",\n",
    "# such as \"once in 1000 years low\"\n",
    "\n",
    "N = 10 ** 9 # 1GB\n",
    "num_bits_flipped = 0.00001 # low chance of flipping even one bit\n",
    "# Have to find f"
   ]
  },
  {
   "cell_type": "code",
   "execution_count": 20,
   "metadata": {},
   "outputs": [],
   "source": [
    "# How to determine an acceptable flip rate?\n",
    "# If we consider user writing the whole HDD once a day, choose num_bits_flipped so that it takes a long time until\n",
    "# even one bit is flipped, maybe?\n",
    "# For instance: with daily 1GB bits access, for 1000 years, makes for:\n",
    "# 1000 * 300 * 10^9 = 3^14 ~ 10^15\n",
    "# So it is as if N = 10 ** 15 and num_bits_flipped = 1\n",
    "N = 10 ** 15\n",
    "num_bits_flipped = 1"
   ]
  },
  {
   "cell_type": "code",
   "execution_count": 21,
   "metadata": {},
   "outputs": [],
   "source": [
    "# num_bits_flipped: mean +/- stddev \n",
    "#\n",
    "# num_bits_flipped >= N * f - N * f * (1-f)\n",
    "# num_bits_flipped <= N * f + N * f * (1-f)"
   ]
  },
  {
   "cell_type": "code",
   "execution_count": 22,
   "metadata": {},
   "outputs": [],
   "source": [
    "def try_f(f, N, histogram_sample_size=1000):\n",
    "    mean = N * f\n",
    "    stddev = math.sqrt(N * f * (1-f))\n",
    "    print(\"mean: %s, stddev: %s\" % (mean, stddev))\n",
    "    print(\"interval:\", mean - stddev, mean + stddev)\n",
    "    print(\"does num_bits_flipped belong in interval (left, right):\",\n",
    "          num_bits_flipped >=mean - stddev, num_bits_flipped <= mean + stddev)\n",
    "\n",
    "    sample_size = 1000\n",
    "    distribution_for_num_heads = np.random.binomial(N, f, sample_size)\n",
    "    plt.hist(distribution_for_num_heads, bins=30)\n",
    "    plt.show()"
   ]
  },
  {
   "cell_type": "code",
   "execution_count": 23,
   "metadata": {},
   "outputs": [
    {
     "name": "stdout",
     "output_type": "stream",
     "text": [
      "mean: 0.01, stddev: 0.09999999949999999\n",
      "interval: -0.0899999995 0.10999999949999999\n",
      "does num_bits_flipped belong in interval (left, right): True False\n"
     ]
    },
    {
     "data": {
      "image/png": "[encoded data removed]",
      "text/plain": [
       "<matplotlib.figure.Figure at 0x2465ef9a4a8>"
      ]
     },
     "metadata": {},
     "output_type": "display_data"
    }
   ],
   "source": [
    "try_f(f=0.00000001, N = 10**6)"
   ]
  },
  {
   "cell_type": "code",
   "execution_count": 24,
   "metadata": {},
   "outputs": [],
   "source": [
    "# After trial-and-error, f = 0.0000000001 (10^-10)  seems a good probabily of flip to shoot for"
   ]
  },
  {
   "cell_type": "code",
   "execution_count": 25,
   "metadata": {},
   "outputs": [],
   "source": [
    "# Official solution: let's assume the user is using the HDD daily, and we want to optimize for 5 years of use\n",
    "# (longer than most users keep their PC around for).\n",
    "# N (number of bits written) = 5 years x 1GB\n",
    "# 1GB = 8 * 10^9 bits\n",
    "N = 5 * 365 * 8 * 10**9"
   ]
  },
  {
   "cell_type": "code",
   "execution_count": 26,
   "metadata": {},
   "outputs": [
    {
     "data": {
      "text/plain": [
       "14600000000000"
      ]
     },
     "execution_count": 26,
     "metadata": {},
     "output_type": "execute_result"
    }
   ],
   "source": [
    "N"
   ]
  },
  {
   "cell_type": "code",
   "execution_count": 27,
   "metadata": {},
   "outputs": [
    {
     "name": "stdout",
     "output_type": "stream",
     "text": [
      "mean: 1.46, stddev: 1.2083045973593967\n",
      "interval: 0.2516954026406033 2.6683045973593966\n",
      "does num_bits_flipped belong in interval (left, right): True True\n"
     ]
    },
    {
     "ename": "OverflowError",
     "evalue": "Python int too large to convert to C long",
     "output_type": "error",
     "traceback": [
      "\u001b[1;31m---------------------------------------------------------------------------\u001b[0m",
      "\u001b[1;31mOverflowError\u001b[0m                             Traceback (most recent call last)",
      "\u001b[1;32m<ipython-input-27-031f7d9aca8f>\u001b[0m in \u001b[0;36m<module>\u001b[1;34m()\u001b[0m\n\u001b[1;32m----> 1\u001b[1;33m \u001b[0mtry_f\u001b[0m\u001b[1;33m(\u001b[0m\u001b[0mf\u001b[0m\u001b[1;33m=\u001b[0m\u001b[1;36m10\u001b[0m\u001b[1;33m**\u001b[0m\u001b[1;33m-\u001b[0m\u001b[1;36m13\u001b[0m\u001b[1;33m,\u001b[0m \u001b[0mN\u001b[0m\u001b[1;33m=\u001b[0m\u001b[0mN\u001b[0m\u001b[1;33m)\u001b[0m\u001b[1;33m\u001b[0m\u001b[0m\n\u001b[0m",
      "\u001b[1;32m<ipython-input-22-deca44c4e3d9>\u001b[0m in \u001b[0;36mtry_f\u001b[1;34m(f, N, histogram_sample_size)\u001b[0m\n\u001b[0;32m      8\u001b[0m \u001b[1;33m\u001b[0m\u001b[0m\n\u001b[0;32m      9\u001b[0m     \u001b[0msample_size\u001b[0m \u001b[1;33m=\u001b[0m \u001b[1;36m1000\u001b[0m\u001b[1;33m\u001b[0m\u001b[0m\n\u001b[1;32m---> 10\u001b[1;33m     \u001b[0mdistribution_for_num_heads\u001b[0m \u001b[1;33m=\u001b[0m \u001b[0mnp\u001b[0m\u001b[1;33m.\u001b[0m\u001b[0mrandom\u001b[0m\u001b[1;33m.\u001b[0m\u001b[0mbinomial\u001b[0m\u001b[1;33m(\u001b[0m\u001b[0mN\u001b[0m\u001b[1;33m,\u001b[0m \u001b[0mf\u001b[0m\u001b[1;33m,\u001b[0m \u001b[0msample_size\u001b[0m\u001b[1;33m)\u001b[0m\u001b[1;33m\u001b[0m\u001b[0m\n\u001b[0m\u001b[0;32m     11\u001b[0m     \u001b[0mplt\u001b[0m\u001b[1;33m.\u001b[0m\u001b[0mhist\u001b[0m\u001b[1;33m(\u001b[0m\u001b[0mdistribution_for_num_heads\u001b[0m\u001b[1;33m,\u001b[0m \u001b[0mbins\u001b[0m\u001b[1;33m=\u001b[0m\u001b[1;36m30\u001b[0m\u001b[1;33m)\u001b[0m\u001b[1;33m\u001b[0m\u001b[0m\n\u001b[0;32m     12\u001b[0m     \u001b[0mplt\u001b[0m\u001b[1;33m.\u001b[0m\u001b[0mshow\u001b[0m\u001b[1;33m(\u001b[0m\u001b[1;33m)\u001b[0m\u001b[1;33m\u001b[0m\u001b[0m\n",
      "\u001b[1;32mmtrand.pyx\u001b[0m in \u001b[0;36mmtrand.RandomState.binomial\u001b[1;34m()\u001b[0m\n",
      "\u001b[1;31mOverflowError\u001b[0m: Python int too large to convert to C long"
     ]
    }
   ],
   "source": [
    "try_f(f=10**-13, N=N)"
   ]
  },
  {
   "cell_type": "code",
   "execution_count": 28,
   "metadata": {},
   "outputs": [],
   "source": [
    "# This assumes 1 error in 5 years is enough.\n",
    "# If we want 1% \"chance of disappointment\", f=10^-13 turns into 10^-15\n",
    "# And if we want it even lower, such as first 1000 customers are all happy: 10^-18"
   ]
  },
  {
   "cell_type": "code",
   "execution_count": 29,
   "metadata": {},
   "outputs": [
    {
     "data": {
      "text/plain": [
       "'\\nRules of probability:\\n\\n1. product rule (by the definition of conditional probabilities)\\nP(s, r) = P(s) * P(r|s)\\n\\n2. sum rule (marginal probabilities)\\nP(r) = SUM(P(r, s) | for all s)\\n'"
      ]
     },
     "execution_count": 29,
     "metadata": {},
     "output_type": "execute_result"
    }
   ],
   "source": [
    "\"\"\"\n",
    "Rules of probability:\n",
    "\n",
    "1. product rule (by the definition of conditional probabilities)\n",
    "P(s, r) = P(s) * P(r|s)\n",
    "\n",
    "2. sum rule (marginal probabilities)\n",
    "P(r) = SUM(P(r, s) | for all s)\n",
    "\"\"\""
   ]
  },
  {
   "cell_type": "code",
   "execution_count": 30,
   "metadata": {},
   "outputs": [
    {
     "data": {
      "text/plain": [
       "'\\nInverse probability (can be derived from the rules above):\\n\\nP(s|r) = P(r|s) * P(s) / P(r) = P(r|s) * P(s) / SUM(P(r, s) | for all s)\\n'"
      ]
     },
     "execution_count": 30,
     "metadata": {},
     "output_type": "execute_result"
    }
   ],
   "source": [
    "\"\"\"\n",
    "Inverse probability (can be derived from the rules above):\n",
    "\n",
    "P(s|r) = P(r|s) * P(s) / P(r) = P(r|s) * P(s) / SUM(P(r, s) | for all s)\n",
    "\"\"\""
   ]
  },
  {
   "cell_type": "code",
   "execution_count": 31,
   "metadata": {},
   "outputs": [],
   "source": [
    "# Lecture 1, Q3 https://youtu.be/BCiZc0n6COY\n",
    "# We send a single bit s via a binary symmetric channel, with R3 replication, and using majority vote for decoding.\n",
    "# What is the probability that the receiver gets the flipped bit?\n",
    "# P(s_hat != s) = ?"
   ]
  },
  {
   "cell_type": "code",
   "execution_count": 32,
   "metadata": {},
   "outputs": [],
   "source": [
    "# My reasoning:\n",
    "# for receiver to get the wrong value, >=2 out of 3 must flip.\n",
    "#\n",
    "# Correct decoding <=1 out of 3 flips:\n",
    "# (1-f)^3 + 3 * f * (1-f)^2\n",
    "# >= 2 out of 3 flip is \"one-minus\" the above"
   ]
  },
  {
   "cell_type": "code",
   "execution_count": 33,
   "metadata": {},
   "outputs": [
    {
     "name": "stdout",
     "output_type": "stream",
     "text": [
      "prob of receiving wrong data: 0.352\n"
     ]
    }
   ],
   "source": [
    "f = 0.4\n",
    "print(\"prob of receiving wrong data:\", 1 - ((1-f)**3  + 3 * f * (1-f)**2))"
   ]
  },
  {
   "cell_type": "code",
   "execution_count": 34,
   "metadata": {},
   "outputs": [],
   "source": [
    "# Official solution:\n",
    "# P(s_hat != s) = P(3 flips) + P(2 flips) = f^3 + 3 * f^2 * (1-f)\n",
    "# This is dominated by the 3*f^2 term (since f < 1)"
   ]
  },
  {
   "cell_type": "code",
   "execution_count": 35,
   "metadata": {},
   "outputs": [],
   "source": [
    "# Lecture 1, homework 1 https://youtu.be/BCiZc0n6COY\n",
    "# Assumming we use repetition codes (like we did above with repetition 3, R3): what is the repetition N needed,\n",
    "# in order to deliver Pbit_error = 10^-15 (as in the problem for 1GB HDD with low error rates), for f=0.1?\n",
    "# Hint: answer is about 61"
   ]
  },
  {
   "cell_type": "code",
   "execution_count": 36,
   "metadata": {},
   "outputs": [],
   "source": [
    "# My reasoning: let's assume we send a single bit. With RN repetition, the probabilty of majority bits being flipped is:\n",
    "# SUM(Binomial(r=i, f=10^-15, N) | i in [(N/2) +1 .. N])\n",
    "# Not sure how to calculate the sum...\n",
    "\n",
    "# Official solution: define the \"dominant term\" in the sum, as the one with (N+1)/2 flips, calculate for that one"
   ]
  },
  {
   "cell_type": "code",
   "execution_count": 37,
   "metadata": {},
   "outputs": [
    {
     "data": {
      "text/plain": [
       "67.61363327915772"
      ]
     },
     "execution_count": 37,
     "metadata": {},
     "output_type": "execute_result"
    }
   ],
   "source": [
    "f = 0.1\n",
    "2 * math.log(10 ** -15) / math.log(4 * f * (1-f))"
   ]
  },
  {
   "cell_type": "code",
   "execution_count": null,
   "metadata": {},
   "outputs": [],
   "source": []
  },
  {
   "cell_type": "code",
   "execution_count": 38,
   "metadata": {},
   "outputs": [],
   "source": [
    "# Lecture 1, homework 2 https://youtu.be/BCiZc0n6COY\n",
    "# Given 7,4 Hamming Code, find probability of error\n",
    "# Hint: Pblock_error = 21 * f^2 + ... (using binomial distribution)\n",
    "# Hint: Pbit_error = 9 * f^2 + ..."
   ]
  },
  {
   "cell_type": "code",
   "execution_count": 39,
   "metadata": {},
   "outputs": [],
   "source": [
    "# Lecture 1, puzzle question: given 12 identical looking metal balls, only one of which is heavier or lighter than others.\n",
    "# Given a balance, find the minimum number of weightings in order to find which ball is different, and also find whether it is \n",
    "# heavier or lighter than the others."
   ]
  },
  {
   "cell_type": "code",
   "execution_count": null,
   "metadata": {},
   "outputs": [],
   "source": []
  },
  {
   "cell_type": "code",
   "execution_count": null,
   "metadata": {},
   "outputs": [],
   "source": [
    "# Lecture 2 https://www.youtube.com/watch?v=y5VdtQSqiAI"
   ]
  },
  {
   "cell_type": "code",
   "execution_count": 44,
   "metadata": {},
   "outputs": [],
   "source": [
    "def h(p):\n",
    "    assert (p > 0 and p <= 1)\n",
    "    \"\"\"\n",
    "    Shannon's \"information content\" for an event that has probability p\n",
    "    The unit of measure of the returned value is in bits.\n",
    "    \"\"\"\n",
    "    return math.log(1.0/p, 2)"
   ]
  },
  {
   "cell_type": "code",
   "execution_count": 47,
   "metadata": {},
   "outputs": [
    {
     "name": "stdout",
     "output_type": "stream",
     "text": [
      "p=0.1, h=3.3219280948873626\n",
      "p=0.5, h=1.0\n",
      "p=0.9, h=0.15200309344505006\n",
      "p=1.0, h=0.0\n"
     ]
    }
   ],
   "source": [
    "for p in [0.1, 0.5, 0.9, 1.0]:\n",
    "    print (\"p=%s, h=%s\" % (p, h(p)))"
   ]
  },
  {
   "cell_type": "code",
   "execution_count": 48,
   "metadata": {},
   "outputs": [],
   "source": [
    "# By definition, the Entropy of a distribution X is\n",
    "# the expectation of h(X):\n",
    "# H(X) = E[h(X)]"
   ]
  },
  {
   "cell_type": "code",
   "execution_count": 66,
   "metadata": {},
   "outputs": [],
   "source": [
    "def H(X):\n",
    "    assert type(X) == list\n",
    "    assert abs(sum(X) - 1.0) < 0.00001\n",
    "    result = 0\n",
    "    for p in X:\n",
    "        result += p * h(p)\n",
    "    return result / len(X)"
   ]
  },
  {
   "cell_type": "code",
   "execution_count": 67,
   "metadata": {},
   "outputs": [
    {
     "data": {
      "text/plain": [
       "0.3391949123617599"
      ]
     },
     "execution_count": 67,
     "metadata": {},
     "output_type": "execute_result"
    }
   ],
   "source": [
    "H([0.1, 0.1, 0.1, 0.7])"
   ]
  },
  {
   "cell_type": "code",
   "execution_count": 68,
   "metadata": {},
   "outputs": [
    {
     "data": {
      "text/plain": [
       "0.33219280948873636"
      ]
     },
     "execution_count": 68,
     "metadata": {},
     "output_type": "execute_result"
    }
   ],
   "source": [
    "H([0.1] * 10)"
   ]
  },
  {
   "cell_type": "code",
   "execution_count": 73,
   "metadata": {},
   "outputs": [
    {
     "data": {
      "text/plain": [
       "0.5"
      ]
     },
     "execution_count": 73,
     "metadata": {},
     "output_type": "execute_result"
    }
   ],
   "source": [
    "H([0.25] * 4)"
   ]
  },
  {
   "cell_type": "code",
   "execution_count": 74,
   "metadata": {},
   "outputs": [
    {
     "data": {
      "text/plain": [
       "0.46438561897747244"
      ]
     },
     "execution_count": 74,
     "metadata": {},
     "output_type": "execute_result"
    }
   ],
   "source": [
    "H([0.2] * 5)"
   ]
  },
  {
   "cell_type": "code",
   "execution_count": 71,
   "metadata": {},
   "outputs": [
    {
     "data": {
      "text/plain": [
       "0.5"
      ]
     },
     "execution_count": 71,
     "metadata": {},
     "output_type": "execute_result"
    }
   ],
   "source": [
    "H([0.5, 0.5])"
   ]
  },
  {
   "cell_type": "code",
   "execution_count": 72,
   "metadata": {},
   "outputs": [
    {
     "data": {
      "text/plain": [
       "0.0"
      ]
     },
     "execution_count": 72,
     "metadata": {},
     "output_type": "execute_result"
    }
   ],
   "source": [
    "H([1.0])"
   ]
  },
  {
   "cell_type": "code",
   "execution_count": null,
   "metadata": {},
   "outputs": [],
   "source": [
    "# Discussion of the puzzle question from Lecture 1: given 12 identical looking metal balls, only one of which is heavier or lighter than others.\n",
    "# Given a balance, find the minimum number of weightings in order to find which ball is different, and also find whether it is \n",
    "# heavier or lighter than the others."
   ]
  },
  {
   "cell_type": "markdown",
   "metadata": {},
   "source": [
    "My reasoning: if we only have 2 balls, we cannot know which ball is wrong: lighter or heavier one.\n",
    "With 3 balls, we need two measurements\n",
    "With 9 balls, we split in 3 groups of 3; we need 2 measurments to find the group of 3 containing the odd ball; then 2 more (like above) to find the odd ball (and which way it is odd: heavier or lighter).\n",
    "\n",
    "For 12 balls:\n",
    "- if we start with 4 groups of 3: we need 3 measurements to identify the group of 3 with odd ball; then 2 more, total 5\n",
    "- if we start with 3 groups of 4: we need 2 measurements to identify the group of 4 with odd ball; 2 more to find the odd ball, total 4.\n",
    "\n",
    "Just realized that given 4 balls, with 2 measurements we can identify the odd one! Better than above, where I started with group of 3.\n"
   ]
  },
  {
   "cell_type": "code",
   "execution_count": null,
   "metadata": {},
   "outputs": [],
   "source": [
    "\"\"\"\n",
    "Hint: use Shannon's information gain; maximize the entropy of the first weighing!\n",
    "TODO\n",
    "\"\"\""
   ]
  }
 ],
 "metadata": {
  "kernelspec": {
   "display_name": "Python 3",
   "language": "python",
   "name": "python3"
  },
  "language_info": {
   "codemirror_mode": {
    "name": "ipython",
    "version": 3
   },
   "file_extension": ".py",
   "mimetype": "text/x-python",
   "name": "python",
   "nbconvert_exporter": "python",
   "pygments_lexer": "ipython3",
   "version": "3.6.2"
  }
 },
 "nbformat": 4,
 "nbformat_minor": 2
}
